{
  "nbformat": 4,
  "nbformat_minor": 0,
  "metadata": {
    "colab": {
      "name": "TCalc_tutorial.ipynb",
      "provenance": []
    },
    "kernelspec": {
      "name": "python3",
      "display_name": "Python 3"
    },
    "language_info": {
      "name": "python"
    }
  },
  "cells": [
    {
      "cell_type": "code",
      "metadata": {
        "id": "VsEDmGwZWYDe"
      },
      "source": [
        "# uncomment the bottom line to install the package\n",
        "# !pip install TCalc==1.1.1"
      ],
      "execution_count": null,
      "outputs": []
    },
    {
      "cell_type": "markdown",
      "metadata": {
        "id": "_yEJP4oh0Kvm"
      },
      "source": [
        "Importing classes from the `tcalc` module"
      ]
    },
    {
      "cell_type": "code",
      "metadata": {
        "id": "eaOgmZ2-WxUC"
      },
      "source": [
        "from TCalc.tcalc import eyepiece, telescope, barlow_lens, focal_reducer"
      ],
      "execution_count": 1,
      "outputs": []
    },
    {
      "cell_type": "markdown",
      "metadata": {
        "id": "1S2gO19I0PS2"
      },
      "source": [
        "To quickly access the docstring, run `help(classname)`"
      ]
    },
    {
      "cell_type": "code",
      "metadata": {
        "colab": {
          "base_uri": "https://localhost:8080/"
        },
        "id": "6_bykktoYWJB",
        "outputId": "1cf33593-21d3-4e27-e93b-3f8532588c0b"
      },
      "source": [
        "help(eyepiece)"
      ],
      "execution_count": 2,
      "outputs": [
        {
          "output_type": "stream",
          "text": [
            "Help on class eyepiece in module TCalc.tcalc:\n",
            "\n",
            "class eyepiece(builtins.object)\n",
            " |  eyepiece(f_e, fov_e=50)\n",
            " |  \n",
            " |  Class representing a single eyepiece\n",
            " |  Args:\n",
            " |      f_e: focal length of the eyepiece (mm) \n",
            " |      fov_e: field of view of the eyepiece (deg). Defaults to 50 degrees.\n",
            " |  \n",
            " |  Methods defined here:\n",
            " |  \n",
            " |  __init__(self, f_e, fov_e=50)\n",
            " |      Initialize self.  See help(type(self)) for accurate signature.\n",
            " |  \n",
            " |  ----------------------------------------------------------------------\n",
            " |  Data descriptors defined here:\n",
            " |  \n",
            " |  __dict__\n",
            " |      dictionary for instance variables (if defined)\n",
            " |  \n",
            " |  __weakref__\n",
            " |      list of weak references to the object (if defined)\n",
            "\n"
          ],
          "name": "stdout"
        }
      ]
    },
    {
      "cell_type": "markdown",
      "metadata": {
        "id": "nWbsBgHinIpg"
      },
      "source": [
        "For an example, let's try to have estimate the specifications of Celestron's 8 SE telescope."
      ]
    },
    {
      "cell_type": "code",
      "metadata": {
        "colab": {
          "base_uri": "https://localhost:8080/"
        },
        "id": "a_5SrrwPbuuy",
        "outputId": "00924a6c-d7db-4339-85a8-2b8d117d3231"
      },
      "source": [
        "c8 = telescope(D_o=203.2, f_o=2032, user_D_eye=None, user_age=22) # adding configuration of 8in scope\n",
        "omni_40 = eyepiece(40, 52) # defining 40 mm eyepiece\n",
        "omni_25 = eyepiece(25, 52) # defining 25 mm eyepiece"
      ],
      "execution_count": 3,
      "outputs": [
        {
          "output_type": "stream",
          "text": [
            "Focal Ratio:'10.0'\n",
            "True Focal Ratio:'10.0'\n"
          ],
          "name": "stdout"
        }
      ]
    },
    {
      "cell_type": "code",
      "metadata": {
        "id": "-lU4UyrBb36C"
      },
      "source": [
        "# adding eyepiece to the telescope\n",
        "c8.add_eyepiece(omni_40, id='omni_40', select=True)\n",
        "c8.add_eyepiece(omni_25, id='omni_25', select=True)"
      ],
      "execution_count": 5,
      "outputs": []
    },
    {
      "cell_type": "code",
      "metadata": {
        "colab": {
          "base_uri": "https://localhost:8080/"
        },
        "id": "thWv7MDloZvr",
        "outputId": "277a58d2-c68e-47a4-d15f-89f2483b36bb"
      },
      "source": [
        "# listing all the added eyepieces in a table format\n",
        "c8.list_eyepiece()"
      ],
      "execution_count": 6,
      "outputs": [
        {
          "output_type": "stream",
          "text": [
            "\n",
            "   Currently included eyepieces:\n",
            "     Name           Focal Length   FOV\n",
            "     -------------- -------------- --------------\n",
            "     'omni_40'      40 mm          52 degrees     \n",
            "     'omni_25'      25 mm          52 degrees     \n",
            "\n",
            "   The currently selected eyepiece is 'omni_25'\n",
            "\n",
            "\n",
            "   Additional optical parts available:\n",
            "     Name           Type           Power\n",
            "     -------------- -------------- --------------\n",
            "\n",
            "   No optical part is selected\n",
            "\n"
          ],
          "name": "stdout"
        }
      ]
    },
    {
      "cell_type": "code",
      "metadata": {
        "colab": {
          "base_uri": "https://localhost:8080/"
        },
        "id": "E4cKxAwro5pw",
        "outputId": "6b4f5963-89d5-411e-afe7-0fc7aea62094"
      },
      "source": [
        "# listing overall configuration of the telescope\n",
        "c8.say_configuration() # remember this with 25 mm eyepiece"
      ],
      "execution_count": 7,
      "outputs": [
        {
          "output_type": "stream",
          "text": [
            "\n",
            "   The telescope has the following layout:\n",
            "      Aperture diameter: 203.2 mm\n",
            "      Focal length: 2032 mm, corresponding to a focal ratio of 10.0\n",
            "\n",
            "   In good atmospheric conditions, the resolution of the telescope (Dawes limit) is 0.6 arcseconds\n",
            "   By wavelength, the resolution is\n",
            "      400 nm (blue): 0.5 arcsec\n",
            "      550 nm (green): 0.7 arcsec\n",
            "      700 nm (red): 0.9 arcsec\n",
            "\n",
            "   The maximum possible magnification factor is 406.4\n",
            "   This means the minimum compatible eyepiece focal length is 5.0 mm\n",
            "\n",
            "   The minimum magnification factor and corresponding maximum eyepiece focal length depend on the diameter of the observer's eye.\n",
            "   For a telescope user with an eye diameter of 7 mm (apropriate for an age around 25 years):\n",
            "      The minimum magnification factor is 29.0\n",
            "      This means the maximum compatible eyepiece focal length is 406.4 mm\n",
            "\n",
            "   The faintest star that can be seen by this telescope is 13.5 mag\n",
            "\n",
            "   The currently selected eyepiece is 'omni_25', which has the following layout:\n",
            "      Focal length: 25 mm\n",
            "      Field of view: 52 degrees\n",
            "\n",
            "   With this eyepiece:\n",
            "      The magnification factor is 81.3. This is compatible with the telescope limits.\n",
            "      The true field of view is 1 degrees\n",
            "      The exit pupil diameter is 2.5 mm\n",
            "\n",
            "   The faintest surface brightness that can be seen by this telescope is 12.50\n",
            "\n"
          ],
          "name": "stdout"
        }
      ]
    },
    {
      "cell_type": "code",
      "metadata": {
        "colab": {
          "base_uri": "https://localhost:8080/"
        },
        "id": "uiYz93Iipkdp",
        "outputId": "99e08fc1-fa45-4519-a9cd-6f7cfd625c95"
      },
      "source": [
        "# selecting different eyepiece\n",
        "c8.select_eyepiece('omni_40')\n",
        "c8.say_configuration()"
      ],
      "execution_count": 8,
      "outputs": [
        {
          "output_type": "stream",
          "text": [
            "\n",
            "   The telescope has the following layout:\n",
            "      Aperture diameter: 203.2 mm\n",
            "      Focal length: 2032 mm, corresponding to a focal ratio of 10.0\n",
            "\n",
            "   In good atmospheric conditions, the resolution of the telescope (Dawes limit) is 0.6 arcseconds\n",
            "   By wavelength, the resolution is\n",
            "      400 nm (blue): 0.5 arcsec\n",
            "      550 nm (green): 0.7 arcsec\n",
            "      700 nm (red): 0.9 arcsec\n",
            "\n",
            "   The maximum possible magnification factor is 406.4\n",
            "   This means the minimum compatible eyepiece focal length is 5.0 mm\n",
            "\n",
            "   The minimum magnification factor and corresponding maximum eyepiece focal length depend on the diameter of the observer's eye.\n",
            "   For a telescope user with an eye diameter of 7 mm (apropriate for an age around 25 years):\n",
            "      The minimum magnification factor is 29.0\n",
            "      This means the maximum compatible eyepiece focal length is 406.4 mm\n",
            "\n",
            "   The faintest star that can be seen by this telescope is 13.5 mag\n",
            "\n",
            "   The currently selected eyepiece is 'omni_40', which has the following layout:\n",
            "      Focal length: 40 mm\n",
            "      Field of view: 52 degrees\n",
            "\n",
            "   With this eyepiece:\n",
            "      The magnification factor is 50.8. This is compatible with the telescope limits.\n",
            "      The true field of view is 1 degrees\n",
            "      The exit pupil diameter is 4.0 mm\n",
            "\n",
            "   The faintest surface brightness that can be seen by this telescope is 32.00\n",
            "\n"
          ],
          "name": "stdout"
        }
      ]
    },
    {
      "cell_type": "code",
      "metadata": {
        "colab": {
          "base_uri": "https://localhost:8080/"
        },
        "id": "HlPkVmNvp4dG",
        "outputId": "2bb5ff25-9cde-455f-f541-b77e458918ab"
      },
      "source": [
        "# calling individual functions\n",
        "c8._compute_focal_ratio()"
      ],
      "execution_count": 9,
      "outputs": [
        {
          "output_type": "stream",
          "text": [
            "Focal Ratio:'10.0'\n",
            "True Focal Ratio:'10.0'\n"
          ],
          "name": "stdout"
        }
      ]
    },
    {
      "cell_type": "code",
      "metadata": {
        "id": "4R9tzgaMq803"
      },
      "source": [
        "# adding additional optical parts\n",
        "reducer = focal_reducer(.5) # defining focal reducer of 0.5x\n",
        "barlow = barlow_lens(2)     # defining barlow lens of 2x "
      ],
      "execution_count": 10,
      "outputs": []
    },
    {
      "cell_type": "code",
      "metadata": {
        "colab": {
          "base_uri": "https://localhost:8080/"
        },
        "id": "-PWy-FCJs-g3",
        "outputId": "846aaba1-b062-435b-94d6-b069f389f2cb"
      },
      "source": [
        "c8.add_optic(reducer,'reducer 1', select=True) # adding reducer to the telescope\n",
        "c8.add_optic(barlow,'barlow 1', select=False)    # adding barlow to the telescope\n",
        "\n",
        "#if the magnifications limits get reached then warning will be printed. "
      ],
      "execution_count": 11,
      "outputs": [
        {
          "output_type": "stream",
          "text": [
            "Focal Ratio:'5.0'\n",
            "True Focal Ratio:'10.0'\n",
            "Note: The magnification produced by this eyepiece is not compatible with the telescope.\n"
          ],
          "name": "stdout"
        }
      ]
    },
    {
      "cell_type": "code",
      "metadata": {
        "colab": {
          "base_uri": "https://localhost:8080/"
        },
        "id": "Sqks7L1ttQID",
        "outputId": "db69d95a-81c5-4a48-ca14-ab853bf569ba"
      },
      "source": [
        "c8.add_optic(reducer,'reducer 1', select=False) \n",
        "c8.add_optic(barlow,'barlow 1', select=True)    "
      ],
      "execution_count": 12,
      "outputs": [
        {
          "output_type": "stream",
          "text": [
            "Focal Ratio:'20.0'\n",
            "True Focal Ratio:'10.0'\n"
          ],
          "name": "stdout"
        }
      ]
    },
    {
      "cell_type": "code",
      "metadata": {
        "colab": {
          "base_uri": "https://localhost:8080/"
        },
        "id": "AOeWxGUCtnsg",
        "outputId": "0a188445-df41-400d-e3a3-beedde86a4e8"
      },
      "source": [
        "# printing configuration again with barlow lens\n",
        "c8.say_configuration()"
      ],
      "execution_count": 13,
      "outputs": [
        {
          "output_type": "stream",
          "text": [
            "\n",
            "   The telescope has the following layout:\n",
            "      Aperture diameter: 203.2 mm\n",
            "      Focal length: 2032 mm, corresponding to a focal ratio of 10.0\n",
            "   'barlow 1', a Barlow lens, has been added to the optical path. This increases the focal length by 2\n",
            "   This results in\n",
            "      Focal length: 4064 mm, corresponding to a focal ratio of 20.0\n",
            "\n",
            "   In good atmospheric conditions, the resolution of the telescope (Dawes limit) is 0.6 arcseconds\n",
            "   By wavelength, the resolution is\n",
            "      400 nm (blue): 0.5 arcsec\n",
            "      550 nm (green): 0.7 arcsec\n",
            "      700 nm (red): 0.9 arcsec\n",
            "\n",
            "   The maximum possible magnification factor is 406.4\n",
            "   This means the minimum compatible eyepiece focal length is 10.0 mm\n",
            "\n",
            "   The minimum magnification factor and corresponding maximum eyepiece focal length depend on the diameter of the observer's eye.\n",
            "   For a telescope user with an eye diameter of 7 mm (apropriate for an age around 25 years):\n",
            "      The minimum magnification factor is 29.0\n",
            "      This means the maximum compatible eyepiece focal length is 406.4 mm\n",
            "\n",
            "   The faintest star that can be seen by this telescope is 13.5 mag\n",
            "\n",
            "   The currently selected eyepiece is 'omni_40', which has the following layout:\n",
            "      Focal length: 40 mm\n",
            "      Field of view: 52 degrees\n",
            "\n",
            "   With this eyepiece:\n",
            "      The magnification factor is 101.6. This is compatible with the telescope limits.\n",
            "      The true field of view is 1 degrees\n",
            "      The exit pupil diameter is 2.0 mm\n",
            "\n",
            "   The faintest surface brightness that can be seen by this telescope is 8.00\n",
            "\n"
          ],
          "name": "stdout"
        }
      ]
    },
    {
      "cell_type": "markdown",
      "metadata": {
        "id": "C3fDKqXyt7Cl"
      },
      "source": [
        "You can notice that if used a *2x barlow lens* on a *40mm eyepiece*, the brightness of the object will be decresead by **4 times!**\n",
        "\n",
        "This way you can simulate different scenarios and find out which accesories are optimal for your purpose. This will save you both time and money on costly accesories! "
      ]
    },
    {
      "cell_type": "markdown",
      "metadata": {
        "id": "y_LqCaznwxJW"
      },
      "source": [
        "For advanced users, the plot functionality provides the plots of `resolution performance`, `maginfication_limits` and `eyepiece_limits`."
      ]
    },
    {
      "cell_type": "code",
      "metadata": {
        "colab": {
          "base_uri": "https://localhost:8080/",
          "height": 842
        },
        "id": "WJIu7Seut2js",
        "outputId": "e05c6668-78cc-45c9-c91a-be0da3b39404"
      },
      "source": [
        "c8.show_resolving_power()\n",
        "c8.show_magnification_limits()\n",
        "c8.show_eyepiece_limits()"
      ],
      "execution_count": 14,
      "outputs": [
        {
          "output_type": "display_data",
          "data": {
            "image/png": "[encoded data removed]",
            "text/plain": [
              "<Figure size 432x288 with 1 Axes>"
            ]
          },
          "metadata": {
            "tags": [],
            "needs_background": "light"
          }
        },
        {
          "output_type": "display_data",
          "data": {
            "image/png": "[encoded data removed]",
            "text/plain": [
              "<Figure size 432x288 with 1 Axes>"
            ]
          },
          "metadata": {
            "tags": [],
            "needs_background": "light"
          }
        },
        {
          "output_type": "display_data",
          "data": {
            "image/png": "[encoded data removed]",
            "text/plain": [
              "<Figure size 432x288 with 1 Axes>"
            ]
          },
          "metadata": {
            "tags": [],
            "needs_background": "light"
          }
        }
      ]
    },
    {
      "cell_type": "code",
      "metadata": {
        "id": "gHZG_gtau9BX"
      },
      "source": [],
      "execution_count": null,
      "outputs": []
    }
  ]
}