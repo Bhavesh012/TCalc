{
 "metadata": {
  "language_info": {
   "codemirror_mode": {
    "name": "ipython",
    "version": 3
   },
   "file_extension": ".py",
   "mimetype": "text/x-python",
   "name": "python",
   "nbconvert_exporter": "python",
   "pygments_lexer": "ipython3",
   "version": "3.9.5"
  },
  "orig_nbformat": 4,
  "kernelspec": {
   "name": "python3",
   "display_name": "Python 3.9.5 64-bit ('codeastro': conda)"
  },
  "interpreter": {
   "hash": "3a3a81d565a5109dfa5b8f7d5c33aae9674f7c0294b28a362af25ba7644bb77b"
  }
 },
 "nbformat": 4,
 "nbformat_minor": 2,
 "cells": [
  {
   "cell_type": "code",
   "execution_count": 15,
   "metadata": {},
   "outputs": [],
   "source": [
    "import numpy as np\n",
    "import astropy.units as u \n",
    "\n",
    "class telescope:\n",
    "    def __init__(self, D_o, f_R, f_e,fov_e=50*u.deg, barlow=None, reducer=None):\n",
    "        \n",
    "        self.aperture = D_o*u.mm\n",
    "        self.fRatio = f_R\n",
    "        self.fov_e = fov_e\n",
    "        self.f_e = f_e*u.mm\n",
    "        self.f_o = self.aperture*self.fRatio\n",
    "        self.barlow = barlow\n",
    "        self.P_reducer = reducer\n",
    "\n",
    "        if barlow != None:\n",
    "            self.f_o = self.barlow*f_o*u.mm\n",
    "        elif reducer != None:\n",
    "            self.f_o = self.P_reducer*f_o*u.mm\n",
    "        else:\n",
    "            pass\n",
    "\n",
    "        print(self.aperture,self.fRatio,self.f_e,self.fov_e,self.f_o,self.barlow,self.P_reducer)\n",
    "\n",
    "        \n",
    "            \n",
    "    def calc_mag(self):\n",
    "        return self.f_o/self.f_e"
   ]
  },
  {
   "cell_type": "code",
   "execution_count": 16,
   "metadata": {},
   "outputs": [
    {
     "output_type": "stream",
     "name": "stdout",
     "text": [
      "203.2 mm 10 40.0 mm 52.0 deg 2032.0 mm None None\n"
     ]
    }
   ],
   "source": [
    "c8 = telescope(203.2, 10, 40, 52*u.deg)"
   ]
  },
  {
   "cell_type": "code",
   "execution_count": 18,
   "metadata": {},
   "outputs": [
    {
     "output_type": "stream",
     "name": "stdout",
     "text": [
      "50.8\n"
     ]
    }
   ],
   "source": [
    "print(c8.calc_mag())"
   ]
  },
  {
   "cell_type": "code",
   "execution_count": null,
   "metadata": {},
   "outputs": [],
   "source": []
  }
 ]
}